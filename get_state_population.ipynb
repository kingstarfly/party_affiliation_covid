{
 "metadata": {
  "language_info": {
   "codemirror_mode": {
    "name": "ipython",
    "version": 3
   },
   "file_extension": ".py",
   "mimetype": "text/x-python",
   "name": "python",
   "nbconvert_exporter": "python",
   "pygments_lexer": "ipython3",
   "version": "3.9.1-final"
  },
  "orig_nbformat": 2,
  "kernelspec": {
   "name": "python3",
   "display_name": "Python 3.9.1 64-bit ('dsai': conda)",
   "metadata": {
    "interpreter": {
     "hash": "b436cc9d2500eadb664e59dc296b360fcc1c24fb678425b97f242a93141d99be"
    }
   }
  }
 },
 "nbformat": 4,
 "nbformat_minor": 2,
 "cells": [
  {
   "cell_type": "code",
   "execution_count": 25,
   "metadata": {},
   "outputs": [],
   "source": [
    "import pandas as pd\n",
    "import json"
   ]
  },
  {
   "cell_type": "code",
   "execution_count": 28,
   "metadata": {},
   "outputs": [],
   "source": [
    "df = pd.read_csv(\"pop2019.csv\",encoding = \"ISO-8859-1\")\n",
    "\n",
    "with open('state_conversion.json') as f:\n",
    "  conv = json.load(f)\n",
    "conv = dict(map(reversed, conv.items()))\n",
    "# print(conv)\n",
    "df[\"state\"] = df[\"STNAME\"].map(conv)\n",
    "df[\"pop\"] = df[\"POPESTIMATE2019\"]"
   ]
  },
  {
   "cell_type": "code",
   "execution_count": 30,
   "metadata": {
    "tags": []
   },
   "outputs": [],
   "source": [
    "# Get state, population 2019\n",
    "my_df = df[[\"state\", \"pop\"]]"
   ]
  },
  {
   "cell_type": "code",
   "execution_count": 31,
   "metadata": {},
   "outputs": [
    {
     "output_type": "execute_result",
     "data": {
      "text/plain": [
       "      state      pop\n",
       "0        AL  4903185\n",
       "1        AL     2560\n",
       "2        AL     4281\n",
       "3        AL      718\n",
       "4        AL      328\n",
       "...     ...      ...\n",
       "81429    WY     2531\n",
       "81430    WY     6927\n",
       "81431    WY     3397\n",
       "81432    WY     1056\n",
       "81433    WY     2474\n",
       "\n",
       "[81434 rows x 2 columns]"
      ],
      "text/html": "<div>\n<style scoped>\n    .dataframe tbody tr th:only-of-type {\n        vertical-align: middle;\n    }\n\n    .dataframe tbody tr th {\n        vertical-align: top;\n    }\n\n    .dataframe thead th {\n        text-align: right;\n    }\n</style>\n<table border=\"1\" class=\"dataframe\">\n  <thead>\n    <tr style=\"text-align: right;\">\n      <th></th>\n      <th>state</th>\n      <th>pop</th>\n    </tr>\n  </thead>\n  <tbody>\n    <tr>\n      <th>0</th>\n      <td>AL</td>\n      <td>4903185</td>\n    </tr>\n    <tr>\n      <th>1</th>\n      <td>AL</td>\n      <td>2560</td>\n    </tr>\n    <tr>\n      <th>2</th>\n      <td>AL</td>\n      <td>4281</td>\n    </tr>\n    <tr>\n      <th>3</th>\n      <td>AL</td>\n      <td>718</td>\n    </tr>\n    <tr>\n      <th>4</th>\n      <td>AL</td>\n      <td>328</td>\n    </tr>\n    <tr>\n      <th>...</th>\n      <td>...</td>\n      <td>...</td>\n    </tr>\n    <tr>\n      <th>81429</th>\n      <td>WY</td>\n      <td>2531</td>\n    </tr>\n    <tr>\n      <th>81430</th>\n      <td>WY</td>\n      <td>6927</td>\n    </tr>\n    <tr>\n      <th>81431</th>\n      <td>WY</td>\n      <td>3397</td>\n    </tr>\n    <tr>\n      <th>81432</th>\n      <td>WY</td>\n      <td>1056</td>\n    </tr>\n    <tr>\n      <th>81433</th>\n      <td>WY</td>\n      <td>2474</td>\n    </tr>\n  </tbody>\n</table>\n<p>81434 rows × 2 columns</p>\n</div>"
     },
     "metadata": {},
     "execution_count": 31
    }
   ],
   "source": [
    "my_df"
   ]
  },
  {
   "cell_type": "code",
   "execution_count": 33,
   "metadata": {},
   "outputs": [],
   "source": [
    "my_df.to_csv(\"state_population.csv\")"
   ]
  },
  {
   "cell_type": "code",
   "execution_count": null,
   "metadata": {},
   "outputs": [],
   "source": []
  }
 ]
}