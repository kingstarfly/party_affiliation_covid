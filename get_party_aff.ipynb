{
 "metadata": {
  "language_info": {
   "codemirror_mode": {
    "name": "ipython",
    "version": 3
   },
   "file_extension": ".py",
   "mimetype": "text/x-python",
   "name": "python",
   "nbconvert_exporter": "python",
   "pygments_lexer": "ipython3",
   "version": "3.9.1-final"
  },
  "orig_nbformat": 2,
  "kernelspec": {
   "name": "python3",
   "display_name": "Python 3.9.1 64-bit ('dsai': conda)",
   "metadata": {
    "interpreter": {
     "hash": "b436cc9d2500eadb664e59dc296b360fcc1c24fb678425b97f242a93141d99be"
    }
   }
  }
 },
 "nbformat": 4,
 "nbformat_minor": 2,
 "cells": [
  {
   "cell_type": "code",
   "execution_count": 1,
   "metadata": {},
   "outputs": [],
   "source": [
    "import pandas as pd"
   ]
  },
  {
   "cell_type": "code",
   "execution_count": 2,
   "metadata": {},
   "outputs": [],
   "source": [
    "df = pd.read_csv(\"1976-2020-president.csv\")\n",
    "df = df[df.year == 2020]\n",
    "df[\"state\"] = df[\"state_po\"]\n",
    "df = df[[\"state\", \"candidatevotes\", \"totalvotes\", \"party_simplified\"]]"
   ]
  },
  {
   "cell_type": "code",
   "execution_count": 3,
   "metadata": {},
   "outputs": [],
   "source": [
    "df = df.loc[df['party_simplified'].isin([\"DEMOCRAT\", \"REPUBLICAN\"])]"
   ]
  },
  {
   "cell_type": "code",
   "execution_count": 5,
   "metadata": {},
   "outputs": [],
   "source": [
    "def func(df):\n",
    "    # print(df)\n",
    "    demo_row = df.loc[df.party_simplified == 'DEMOCRAT']\n",
    "    demo_per = demo_row.iloc[0,1] / demo_row.iloc[0,2]\n",
    "\n",
    "    repu_row = df.loc[df.party_simplified == 'REPUBLICAN']\n",
    "    repu_per = repu_row.iloc[0,1] / repu_row.iloc[0,2]\n",
    "\n",
    "    return pd.Series(data=[demo_per, repu_per], index=['p_democrat', 'p_republican'])\n",
    "    \n",
    "my_df = df.groupby([\"state\"]).apply(func)\n",
    "\n"
   ]
  },
  {
   "cell_type": "code",
   "execution_count": 6,
   "metadata": {},
   "outputs": [],
   "source": [
    "def func2(row):\n",
    "    is_democrat = False\n",
    "    if (row[0] > row[1]):\n",
    "        is_democrat = True\n",
    "    return is_democrat\n",
    "simple_df = my_df.copy()\n",
    "simple_df[\"is_democrat\"] =  my_df.apply(func = func2, axis=1)"
   ]
  },
  {
   "cell_type": "code",
   "execution_count": 7,
   "metadata": {},
   "outputs": [
    {
     "output_type": "execute_result",
     "data": {
      "text/plain": [
       "       p_democrat  p_republican  is_democrat\n",
       "state                                       \n",
       "AK       0.427720      0.528331        False\n",
       "AL       0.365700      0.620316        False\n",
       "AR       0.347751      0.623957        False\n",
       "AZ       0.493647      0.490560         True\n",
       "CA       0.634839      0.343207         True\n",
       "CO       0.550111      0.416041         True\n",
       "CT       0.592607      0.391871         True\n",
       "DC       0.921497      0.053973         True\n",
       "DE       0.587430      0.397749         True\n",
       "FL       0.478615      0.512198        False\n",
       "GA       0.494731      0.492375         True\n",
       "HI       0.631494      0.339547         True\n",
       "IA       0.446472      0.528002        False\n",
       "ID       0.330664      0.638376        False\n",
       "IL       0.575416      0.405535         True\n",
       "IN       0.409617      0.570212        False\n",
       "KS       0.415596      0.562125        False\n",
       "KY       0.361515      0.620866        False\n",
       "LA       0.398515      0.584609        False\n",
       "MA       0.651230      0.319082         True\n",
       "MD       0.653607      0.321503         True\n",
       "ME       0.525256      0.435512         True\n",
       "MI       0.506208      0.478373         True\n",
       "MN       0.523951      0.452849         True\n",
       "MO       0.414088      0.567997        False\n",
       "MS       0.410576      0.576030        False\n",
       "MT       0.405494      0.569185        False\n",
       "NC       0.485862      0.499343        False\n",
       "ND       0.317568      0.651140        False\n",
       "NE       0.391666      0.582242        False\n",
       "NH       0.527078      0.453563         True\n",
       "NJ       0.573342      0.413965         True\n",
       "NM       0.542893      0.434967         True\n",
       "NV       0.500568      0.476662         True\n",
       "NY       0.603919      0.374613         True\n",
       "OH       0.452393      0.532713        False\n",
       "OK       0.322862      0.653733        False\n",
       "OR       0.564533      0.403672         True\n",
       "PA       0.500085      0.488436         True\n",
       "RI       0.594762      0.386704         True\n",
       "SC       0.434168      0.550935        False\n",
       "SD       0.356053      0.617694        False\n",
       "TN       0.374514      0.606603        False\n",
       "TX       0.464790      0.520576        False\n",
       "UT       0.376460      0.581298        False\n",
       "VA       0.541095      0.439955         True\n",
       "VT       0.654558      0.303811         True\n",
       "WA       0.579703      0.387670         True\n",
       "WI       0.494495      0.488224         True\n",
       "WV       0.296965      0.686316        False\n",
       "WY       0.263879      0.694998        False"
      ],
      "text/html": "<div>\n<style scoped>\n    .dataframe tbody tr th:only-of-type {\n        vertical-align: middle;\n    }\n\n    .dataframe tbody tr th {\n        vertical-align: top;\n    }\n\n    .dataframe thead th {\n        text-align: right;\n    }\n</style>\n<table border=\"1\" class=\"dataframe\">\n  <thead>\n    <tr style=\"text-align: right;\">\n      <th></th>\n      <th>p_democrat</th>\n      <th>p_republican</th>\n      <th>is_democrat</th>\n    </tr>\n    <tr>\n      <th>state</th>\n      <th></th>\n      <th></th>\n      <th></th>\n    </tr>\n  </thead>\n  <tbody>\n    <tr>\n      <th>AK</th>\n      <td>0.427720</td>\n      <td>0.528331</td>\n      <td>False</td>\n    </tr>\n    <tr>\n      <th>AL</th>\n      <td>0.365700</td>\n      <td>0.620316</td>\n      <td>False</td>\n    </tr>\n    <tr>\n      <th>AR</th>\n      <td>0.347751</td>\n      <td>0.623957</td>\n      <td>False</td>\n    </tr>\n    <tr>\n      <th>AZ</th>\n      <td>0.493647</td>\n      <td>0.490560</td>\n      <td>True</td>\n    </tr>\n    <tr>\n      <th>CA</th>\n      <td>0.634839</td>\n      <td>0.343207</td>\n      <td>True</td>\n    </tr>\n    <tr>\n      <th>CO</th>\n      <td>0.550111</td>\n      <td>0.416041</td>\n      <td>True</td>\n    </tr>\n    <tr>\n      <th>CT</th>\n      <td>0.592607</td>\n      <td>0.391871</td>\n      <td>True</td>\n    </tr>\n    <tr>\n      <th>DC</th>\n      <td>0.921497</td>\n      <td>0.053973</td>\n      <td>True</td>\n    </tr>\n    <tr>\n      <th>DE</th>\n      <td>0.587430</td>\n      <td>0.397749</td>\n      <td>True</td>\n    </tr>\n    <tr>\n      <th>FL</th>\n      <td>0.478615</td>\n      <td>0.512198</td>\n      <td>False</td>\n    </tr>\n    <tr>\n      <th>GA</th>\n      <td>0.494731</td>\n      <td>0.492375</td>\n      <td>True</td>\n    </tr>\n    <tr>\n      <th>HI</th>\n      <td>0.631494</td>\n      <td>0.339547</td>\n      <td>True</td>\n    </tr>\n    <tr>\n      <th>IA</th>\n      <td>0.446472</td>\n      <td>0.528002</td>\n      <td>False</td>\n    </tr>\n    <tr>\n      <th>ID</th>\n      <td>0.330664</td>\n      <td>0.638376</td>\n      <td>False</td>\n    </tr>\n    <tr>\n      <th>IL</th>\n      <td>0.575416</td>\n      <td>0.405535</td>\n      <td>True</td>\n    </tr>\n    <tr>\n      <th>IN</th>\n      <td>0.409617</td>\n      <td>0.570212</td>\n      <td>False</td>\n    </tr>\n    <tr>\n      <th>KS</th>\n      <td>0.415596</td>\n      <td>0.562125</td>\n      <td>False</td>\n    </tr>\n    <tr>\n      <th>KY</th>\n      <td>0.361515</td>\n      <td>0.620866</td>\n      <td>False</td>\n    </tr>\n    <tr>\n      <th>LA</th>\n      <td>0.398515</td>\n      <td>0.584609</td>\n      <td>False</td>\n    </tr>\n    <tr>\n      <th>MA</th>\n      <td>0.651230</td>\n      <td>0.319082</td>\n      <td>True</td>\n    </tr>\n    <tr>\n      <th>MD</th>\n      <td>0.653607</td>\n      <td>0.321503</td>\n      <td>True</td>\n    </tr>\n    <tr>\n      <th>ME</th>\n      <td>0.525256</td>\n      <td>0.435512</td>\n      <td>True</td>\n    </tr>\n    <tr>\n      <th>MI</th>\n      <td>0.506208</td>\n      <td>0.478373</td>\n      <td>True</td>\n    </tr>\n    <tr>\n      <th>MN</th>\n      <td>0.523951</td>\n      <td>0.452849</td>\n      <td>True</td>\n    </tr>\n    <tr>\n      <th>MO</th>\n      <td>0.414088</td>\n      <td>0.567997</td>\n      <td>False</td>\n    </tr>\n    <tr>\n      <th>MS</th>\n      <td>0.410576</td>\n      <td>0.576030</td>\n      <td>False</td>\n    </tr>\n    <tr>\n      <th>MT</th>\n      <td>0.405494</td>\n      <td>0.569185</td>\n      <td>False</td>\n    </tr>\n    <tr>\n      <th>NC</th>\n      <td>0.485862</td>\n      <td>0.499343</td>\n      <td>False</td>\n    </tr>\n    <tr>\n      <th>ND</th>\n      <td>0.317568</td>\n      <td>0.651140</td>\n      <td>False</td>\n    </tr>\n    <tr>\n      <th>NE</th>\n      <td>0.391666</td>\n      <td>0.582242</td>\n      <td>False</td>\n    </tr>\n    <tr>\n      <th>NH</th>\n      <td>0.527078</td>\n      <td>0.453563</td>\n      <td>True</td>\n    </tr>\n    <tr>\n      <th>NJ</th>\n      <td>0.573342</td>\n      <td>0.413965</td>\n      <td>True</td>\n    </tr>\n    <tr>\n      <th>NM</th>\n      <td>0.542893</td>\n      <td>0.434967</td>\n      <td>True</td>\n    </tr>\n    <tr>\n      <th>NV</th>\n      <td>0.500568</td>\n      <td>0.476662</td>\n      <td>True</td>\n    </tr>\n    <tr>\n      <th>NY</th>\n      <td>0.603919</td>\n      <td>0.374613</td>\n      <td>True</td>\n    </tr>\n    <tr>\n      <th>OH</th>\n      <td>0.452393</td>\n      <td>0.532713</td>\n      <td>False</td>\n    </tr>\n    <tr>\n      <th>OK</th>\n      <td>0.322862</td>\n      <td>0.653733</td>\n      <td>False</td>\n    </tr>\n    <tr>\n      <th>OR</th>\n      <td>0.564533</td>\n      <td>0.403672</td>\n      <td>True</td>\n    </tr>\n    <tr>\n      <th>PA</th>\n      <td>0.500085</td>\n      <td>0.488436</td>\n      <td>True</td>\n    </tr>\n    <tr>\n      <th>RI</th>\n      <td>0.594762</td>\n      <td>0.386704</td>\n      <td>True</td>\n    </tr>\n    <tr>\n      <th>SC</th>\n      <td>0.434168</td>\n      <td>0.550935</td>\n      <td>False</td>\n    </tr>\n    <tr>\n      <th>SD</th>\n      <td>0.356053</td>\n      <td>0.617694</td>\n      <td>False</td>\n    </tr>\n    <tr>\n      <th>TN</th>\n      <td>0.374514</td>\n      <td>0.606603</td>\n      <td>False</td>\n    </tr>\n    <tr>\n      <th>TX</th>\n      <td>0.464790</td>\n      <td>0.520576</td>\n      <td>False</td>\n    </tr>\n    <tr>\n      <th>UT</th>\n      <td>0.376460</td>\n      <td>0.581298</td>\n      <td>False</td>\n    </tr>\n    <tr>\n      <th>VA</th>\n      <td>0.541095</td>\n      <td>0.439955</td>\n      <td>True</td>\n    </tr>\n    <tr>\n      <th>VT</th>\n      <td>0.654558</td>\n      <td>0.303811</td>\n      <td>True</td>\n    </tr>\n    <tr>\n      <th>WA</th>\n      <td>0.579703</td>\n      <td>0.387670</td>\n      <td>True</td>\n    </tr>\n    <tr>\n      <th>WI</th>\n      <td>0.494495</td>\n      <td>0.488224</td>\n      <td>True</td>\n    </tr>\n    <tr>\n      <th>WV</th>\n      <td>0.296965</td>\n      <td>0.686316</td>\n      <td>False</td>\n    </tr>\n    <tr>\n      <th>WY</th>\n      <td>0.263879</td>\n      <td>0.694998</td>\n      <td>False</td>\n    </tr>\n  </tbody>\n</table>\n</div>"
     },
     "metadata": {},
     "execution_count": 7
    }
   ],
   "source": [
    "simple_df"
   ]
  },
  {
   "cell_type": "code",
   "execution_count": 8,
   "metadata": {},
   "outputs": [],
   "source": [
    "simple_df.to_csv(\"party_affiliation.csv\")"
   ]
  },
  {
   "cell_type": "code",
   "execution_count": null,
   "metadata": {},
   "outputs": [],
   "source": []
  }
 ]
}