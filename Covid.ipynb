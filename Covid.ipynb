{
 "cells": [
  {
   "cell_type": "code",
   "execution_count": 12,
   "id": "featured-employee",
   "metadata": {},
   "outputs": [],
   "source": [
    "import numpy as np\n",
    "import pandas as pd\n",
    "import matplotlib.pyplot as plt\n",
    "import seaborn as sb"
   ]
  },
  {
   "cell_type": "code",
   "execution_count": 13,
   "id": "inside-electricity",
   "metadata": {},
   "outputs": [],
   "source": [
    "data = pd.read_csv(\"all-states-history.csv\")\n",
    "popdf = pd.read_csv(\"state_population.csv\")\n",
    "affdf = pd.read_csv(\"party_affiliation.csv\")"
   ]
  },
  {
   "cell_type": "code",
   "execution_count": 14,
   "id": "collected-element",
   "metadata": {},
   "outputs": [],
   "source": [
    "required_cols = [\"date\", \"state\", \"deathIncrease\", \"hospitalizedCumulative\", \"hospitalizedCurrently\", \"totalTestResultsIncrease\", \"recovered\", \"positive\"]\n",
    "df = data[required_cols]"
   ]
  },
  {
   "cell_type": "code",
   "execution_count": 18,
   "metadata": {},
   "outputs": [],
   "source": [
    "df = pd.merge(df, popdf, on=\"state\")\n",
    "df = pd.merge(df, affdf, on=\"state\")"
   ]
  },
  {
   "cell_type": "code",
   "execution_count": 19,
   "metadata": {},
   "outputs": [
    {
     "output_type": "execute_result",
     "data": {
      "text/plain": [
       "             date state  deathIncrease  hospitalizedCumulative  \\\n",
       "0      2021-03-07    AK              0                  1293.0   \n",
       "1      2021-03-06    AK              0                  1293.0   \n",
       "2      2021-03-05    AK              2                  1293.0   \n",
       "3      2021-03-04    AK              0                  1290.0   \n",
       "4      2021-03-03    AK              1                  1285.0   \n",
       "...           ...   ...            ...                     ...   \n",
       "18622  2020-03-05    WY              0                     NaN   \n",
       "18623  2020-03-04    WY              0                     NaN   \n",
       "18624  2020-03-03    WY              0                     NaN   \n",
       "18625  2020-03-02    WY              0                     NaN   \n",
       "18626  2020-03-01    WY              0                     NaN   \n",
       "\n",
       "       hospitalizedCurrently  totalTestResultsIncrease  recovered  positive  \\\n",
       "0                       33.0                         0        NaN   56886.0   \n",
       "1                       33.0                         0        NaN   56886.0   \n",
       "2                       33.0                      7144        NaN   56886.0   \n",
       "3                       32.0                     13466        NaN   56745.0   \n",
       "4                       26.0                      6358        NaN   56605.0   \n",
       "...                      ...                       ...        ...       ...   \n",
       "18622                    NaN                         4        NaN       NaN   \n",
       "18623                    NaN                         3        NaN       NaN   \n",
       "18624                    NaN                         0        NaN       NaN   \n",
       "18625                    NaN                         0        NaN       NaN   \n",
       "18626                    NaN                         0        NaN       NaN   \n",
       "\n",
       "           pop  p_democrat  p_republican  is_democrat  \n",
       "0      2687341    0.427720      0.528331        False  \n",
       "1      2687341    0.427720      0.528331        False  \n",
       "2      2687341    0.427720      0.528331        False  \n",
       "3      2687341    0.427720      0.528331        False  \n",
       "4      2687341    0.427720      0.528331        False  \n",
       "...        ...         ...           ...          ...  \n",
       "18622  2133993    0.263879      0.694998        False  \n",
       "18623  2133993    0.263879      0.694998        False  \n",
       "18624  2133993    0.263879      0.694998        False  \n",
       "18625  2133993    0.263879      0.694998        False  \n",
       "18626  2133993    0.263879      0.694998        False  \n",
       "\n",
       "[18627 rows x 12 columns]"
      ],
      "text/html": "<div>\n<style scoped>\n    .dataframe tbody tr th:only-of-type {\n        vertical-align: middle;\n    }\n\n    .dataframe tbody tr th {\n        vertical-align: top;\n    }\n\n    .dataframe thead th {\n        text-align: right;\n    }\n</style>\n<table border=\"1\" class=\"dataframe\">\n  <thead>\n    <tr style=\"text-align: right;\">\n      <th></th>\n      <th>date</th>\n      <th>state</th>\n      <th>deathIncrease</th>\n      <th>hospitalizedCumulative</th>\n      <th>hospitalizedCurrently</th>\n      <th>totalTestResultsIncrease</th>\n      <th>recovered</th>\n      <th>positive</th>\n      <th>pop</th>\n      <th>p_democrat</th>\n      <th>p_republican</th>\n      <th>is_democrat</th>\n    </tr>\n  </thead>\n  <tbody>\n    <tr>\n      <th>0</th>\n      <td>2021-03-07</td>\n      <td>AK</td>\n      <td>0</td>\n      <td>1293.0</td>\n      <td>33.0</td>\n      <td>0</td>\n      <td>NaN</td>\n      <td>56886.0</td>\n      <td>2687341</td>\n      <td>0.427720</td>\n      <td>0.528331</td>\n      <td>False</td>\n    </tr>\n    <tr>\n      <th>1</th>\n      <td>2021-03-06</td>\n      <td>AK</td>\n      <td>0</td>\n      <td>1293.0</td>\n      <td>33.0</td>\n      <td>0</td>\n      <td>NaN</td>\n      <td>56886.0</td>\n      <td>2687341</td>\n      <td>0.427720</td>\n      <td>0.528331</td>\n      <td>False</td>\n    </tr>\n    <tr>\n      <th>2</th>\n      <td>2021-03-05</td>\n      <td>AK</td>\n      <td>2</td>\n      <td>1293.0</td>\n      <td>33.0</td>\n      <td>7144</td>\n      <td>NaN</td>\n      <td>56886.0</td>\n      <td>2687341</td>\n      <td>0.427720</td>\n      <td>0.528331</td>\n      <td>False</td>\n    </tr>\n    <tr>\n      <th>3</th>\n      <td>2021-03-04</td>\n      <td>AK</td>\n      <td>0</td>\n      <td>1290.0</td>\n      <td>32.0</td>\n      <td>13466</td>\n      <td>NaN</td>\n      <td>56745.0</td>\n      <td>2687341</td>\n      <td>0.427720</td>\n      <td>0.528331</td>\n      <td>False</td>\n    </tr>\n    <tr>\n      <th>4</th>\n      <td>2021-03-03</td>\n      <td>AK</td>\n      <td>1</td>\n      <td>1285.0</td>\n      <td>26.0</td>\n      <td>6358</td>\n      <td>NaN</td>\n      <td>56605.0</td>\n      <td>2687341</td>\n      <td>0.427720</td>\n      <td>0.528331</td>\n      <td>False</td>\n    </tr>\n    <tr>\n      <th>...</th>\n      <td>...</td>\n      <td>...</td>\n      <td>...</td>\n      <td>...</td>\n      <td>...</td>\n      <td>...</td>\n      <td>...</td>\n      <td>...</td>\n      <td>...</td>\n      <td>...</td>\n      <td>...</td>\n      <td>...</td>\n    </tr>\n    <tr>\n      <th>18622</th>\n      <td>2020-03-05</td>\n      <td>WY</td>\n      <td>0</td>\n      <td>NaN</td>\n      <td>NaN</td>\n      <td>4</td>\n      <td>NaN</td>\n      <td>NaN</td>\n      <td>2133993</td>\n      <td>0.263879</td>\n      <td>0.694998</td>\n      <td>False</td>\n    </tr>\n    <tr>\n      <th>18623</th>\n      <td>2020-03-04</td>\n      <td>WY</td>\n      <td>0</td>\n      <td>NaN</td>\n      <td>NaN</td>\n      <td>3</td>\n      <td>NaN</td>\n      <td>NaN</td>\n      <td>2133993</td>\n      <td>0.263879</td>\n      <td>0.694998</td>\n      <td>False</td>\n    </tr>\n    <tr>\n      <th>18624</th>\n      <td>2020-03-03</td>\n      <td>WY</td>\n      <td>0</td>\n      <td>NaN</td>\n      <td>NaN</td>\n      <td>0</td>\n      <td>NaN</td>\n      <td>NaN</td>\n      <td>2133993</td>\n      <td>0.263879</td>\n      <td>0.694998</td>\n      <td>False</td>\n    </tr>\n    <tr>\n      <th>18625</th>\n      <td>2020-03-02</td>\n      <td>WY</td>\n      <td>0</td>\n      <td>NaN</td>\n      <td>NaN</td>\n      <td>0</td>\n      <td>NaN</td>\n      <td>NaN</td>\n      <td>2133993</td>\n      <td>0.263879</td>\n      <td>0.694998</td>\n      <td>False</td>\n    </tr>\n    <tr>\n      <th>18626</th>\n      <td>2020-03-01</td>\n      <td>WY</td>\n      <td>0</td>\n      <td>NaN</td>\n      <td>NaN</td>\n      <td>0</td>\n      <td>NaN</td>\n      <td>NaN</td>\n      <td>2133993</td>\n      <td>0.263879</td>\n      <td>0.694998</td>\n      <td>False</td>\n    </tr>\n  </tbody>\n</table>\n<p>18627 rows × 12 columns</p>\n</div>"
     },
     "metadata": {},
     "execution_count": 19
    }
   ],
   "source": [
    "df"
   ]
  },
  {
   "cell_type": "code",
   "execution_count": null,
   "id": "promotional-claim",
   "metadata": {},
   "outputs": [],
   "source": [
    "print(f\"old length: {len(df)}\")\n",
    "new_df = df.dropna()\n",
    "print(f\"new length: {len(new_df)}\")"
   ]
  },
  {
   "cell_type": "code",
   "execution_count": null,
   "id": "purple-columbus",
   "metadata": {},
   "outputs": [],
   "source": [
    "new_df"
   ]
  },
  {
   "cell_type": "code",
   "execution_count": null,
   "id": "protective-chair",
   "metadata": {},
   "outputs": [],
   "source": []
  }
 ],
 "metadata": {
  "kernelspec": {
   "display_name": "Python 3",
   "language": "python",
   "name": "python3"
  },
  "language_info": {
   "codemirror_mode": {
    "name": "ipython",
    "version": 3
   },
   "file_extension": ".py",
   "mimetype": "text/x-python",
   "name": "python",
   "nbconvert_exporter": "python",
   "pygments_lexer": "ipython3",
   "version": "3.9.1-final"
  }
 },
 "nbformat": 4,
 "nbformat_minor": 5
}